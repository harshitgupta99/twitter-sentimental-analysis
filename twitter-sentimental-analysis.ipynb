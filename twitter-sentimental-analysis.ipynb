{
 "cells": [
  {
   "cell_type": "code",
   "execution_count": null,
   "metadata": {
    "collapsed": true
   },
   "outputs": [],
   "source": [
    "import tweepy\n",
    "import matplotlib.pyplot as plt\n",
    "from textblob import TextBlob\n",
    "import numpy as np\n",
    "p=0\n",
    "n=0\n",
    "b=0\n",
    "consumer_key = 'YOUR_CONSUMER_KEY'\n",
    "consumer_key_secret = 'YOUR_CONSUMER_KEY_SECRET'\n",
    "access_token = 'YOUR_ACCESS_TOKEN'\n",
    "access_token_secret = 'YOUR_ACCESS_TOKEN_SECRET'\n",
    "\n",
    "auth = tweepy.OAuthHandler(consumer_key, consumer_key_secret)\n",
    "\n",
    "auth.set_access_token(access_token, access_token_secret)\n",
    "\n",
    "api = tweepy.API(auth)\n",
    "\n",
    "public_tweets = tweepy.Cursor(api.search,q=\"#bjp\",count=3000,lang=\"en\",since=\"2019-02-20\").items()#QUERYING TWEETS TO TWEETY API USING BJP AS A HASHTAG\n",
    "#ANALYSING TWEETS ON THE BASIS OF THEIR SENTIMENTS\n",
    "for tweet in public_tweets:\n",
    "    print(tweet.text)\n",
    "    analysis = TextBlob(tweet.text)\n",
    "    print(analysis.sentiment)\n",
    "    if analysis.sentiment[0]>0:\n",
    "        print ('Positive')\n",
    "        p+=1\n",
    "    elif analysis.sentiment[0]==0:\n",
    "        print('Neutral')\n",
    "        b+=1\n",
    "    else:\n",
    "        print ('Negative')\n",
    "        n+=1\n",
    "print(\"\")\n",
    "\n",
    "print(\"NUMBER OF POSITIVE TWEETS:\",p)\n",
    "print(\"NUMBER OF NEUTRAL TWEETS:\",b)\n",
    "print(\"NUMBER OF NEGATIVE TWEETS:\",n)\n"
   ]
  },
  {
   "cell_type": "code",
   "execution_count": null,
   "metadata": {
    "collapsed": true
   },
   "outputs": [],
   "source": [
    "#PLOTTING GRAPH FOR POSITIVE, NEGATIVE AND NEUTRAL TWEETS\n",
    "x1=['positive','negative','neutral']\n",
    "y=[p,n,b]\n",
    "x= np.arange(len(x1))\n",
    "plt.bar(x,y)\n",
    "plt.ylabel('count', fontsize=20)\n",
    "plt.xticks(x, x1, fontsize=20, rotation=90)\n",
    "plt.title('TWITTER ANALYSIS FOR #BJP')\n",
    "plt.show()"
   ]
  }
 ],
 "metadata": {
  "kernelspec": {
   "display_name": "Python 3",
   "language": "python",
   "name": "python3"
  },
  "language_info": {
   "codemirror_mode": {
    "name": "ipython",
    "version": 3
   },
   "file_extension": ".py",
   "mimetype": "text/x-python",
   "name": "python",
   "nbconvert_exporter": "python",
   "pygments_lexer": "ipython3",
   "version": "3.6.3"
  }
 },
 "nbformat": 4,
 "nbformat_minor": 2
}
